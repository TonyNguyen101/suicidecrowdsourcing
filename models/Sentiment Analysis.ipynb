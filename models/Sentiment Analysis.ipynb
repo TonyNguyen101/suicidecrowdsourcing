{
 "cells": [
  {
   "cell_type": "code",
   "execution_count": 9,
   "metadata": {
    "collapsed": true
   },
   "outputs": [],
   "source": [
    "from sklearn.feature_extraction.text import TfidfVectorizer\n",
    "from sklearn.naive_bayes import MultinomialNB\n",
    "from sklearn.neighbors import KNeighborsClassifier\n",
    "from sklearn.linear_model import LogisticRegression\n",
    "from sklearn.ensemble import RandomForestClassifier\n",
    "from sklearn.cross_validation import train_test_split\n",
    "from sklearn.metrics import f1_score, accuracy_score, precision_score, \\\n",
    "    recall_score\n",
    "import pandas as pd\n",
    "import numpy as np"
   ]
  },
  {
   "cell_type": "code",
   "execution_count": 10,
   "metadata": {
    "collapsed": false
   },
   "outputs": [],
   "source": [
    "def get_tweets(filename):\n",
    "    with open(filename) as f:\n",
    "        return [line[1:] for line in f]"
   ]
  },
  {
   "cell_type": "code",
   "execution_count": 11,
   "metadata": {
    "collapsed": true
   },
   "outputs": [],
   "source": [
    "def get_labels(filename):\n",
    "    with open(filename) as f:\n",
    "        return np.array([int(line[0]) for line in f])"
   ]
  },
  {
   "cell_type": "code",
   "execution_count": 12,
   "metadata": {
    "collapsed": true
   },
   "outputs": [],
   "source": [
    "def get_vectorizer(tweets, num_features=5000):\n",
    "    vect = TfidfVectorizer(max_features=num_features, stop_words='english')\n",
    "    return vect.fit(tweets)"
   ]
  },
  {
   "cell_type": "code",
   "execution_count": 13,
   "metadata": {
    "collapsed": true
   },
   "outputs": [],
   "source": [
    "def run_model(Model, X_train, X_test, y_train, y_test):\n",
    "    m = Model()\n",
    "    m.fit(X_train, y_train)\n",
    "    y_predict = m.predict(X_test)\n",
    "    return accuracy_score(y_test, y_predict), \\\n",
    "        f1_score(y_test, y_predict), \\\n",
    "        precision_score(y_test, y_predict), \\\n",
    "        recall_score(y_test, y_predict)     "
   ]
  },
  {
   "cell_type": "code",
   "execution_count": 14,
   "metadata": {
    "collapsed": false
   },
   "outputs": [],
   "source": [
    "def compare_models(tweets, labels, models):\n",
    "    tweets_train, tweets_test, y_train, y_test = \\\n",
    "        train_test_split(tweets, labels)\n",
    "\n",
    "    print \"-----------------------------\"\n",
    "    run_test(models, tweets_train, tweets_test, y_train, y_test)\n",
    "    print \"-----------------------------\""
   ]
  },
  {
   "cell_type": "code",
   "execution_count": 15,
   "metadata": {
    "collapsed": true
   },
   "outputs": [],
   "source": [
    "def run_test(models, tweets_train, tweets_test, y_train, y_test):\n",
    "    vect = get_vectorizer(tweets_train)\n",
    "    X_train = vect.transform(tweets_train).toarray()\n",
    "    X_test = vect.transform(tweets_test).toarray()\n",
    "\n",
    "    print \"acc\\tf1\\tprec\\trecall\"\n",
    "    for Model in models:\n",
    "        name = Model.__name__\n",
    "        acc, f1, prec, rec = run_model(Model, X_train, X_test, y_train, y_test)\n",
    "        print \"%.4f\\t%.4f\\t%.4f\\t%.4f\\t%s\" % (acc, f1, prec, rec, name)"
   ]
  },
  {
   "cell_type": "code",
   "execution_count": 16,
   "metadata": {
    "collapsed": false
   },
   "outputs": [
    {
     "name": "stdout",
     "output_type": "stream",
     "text": [
      "distribution of labels:\n",
      "0: 3091\n",
      "1: 3995\n",
      "-----------------------------\n",
      "acc\tf1\tprec\trecall\n",
      "0.9921\t0.9932\t0.9922\t0.9941\tLogisticRegression\n",
      "0.9853\t0.9873\t0.9816\t0.9931\tKNeighborsClassifier\n",
      "0.9825\t0.9849\t0.9787\t0.9912\tMultinomialNB\n",
      "0.9876\t0.9892\t0.9921\t0.9863\tRandomForestClassifier\n",
      "-----------------------------\n"
     ]
    }
   ],
   "source": [
    "tweets = get_tweets('training.txt')\n",
    "labels = get_labels('training.txt')\n",
    "print \"distribution of labels:\"\n",
    "for i, count in enumerate(np.bincount(labels)):\n",
    "    print \"%d: %d\" % (i, count)\n",
    "models = [LogisticRegression, KNeighborsClassifier, MultinomialNB,\n",
    "          RandomForestClassifier]\n",
    "compare_models(tweets, labels, models)"
   ]
  }
 ],
 "metadata": {
  "kernelspec": {
   "display_name": "Python 2",
   "language": "python",
   "name": "python2"
  },
  "language_info": {
   "codemirror_mode": {
    "name": "ipython",
    "version": 2
   },
   "file_extension": ".py",
   "mimetype": "text/x-python",
   "name": "python",
   "nbconvert_exporter": "python",
   "pygments_lexer": "ipython2",
   "version": "2.7.11"
  }
 },
 "nbformat": 4,
 "nbformat_minor": 0
}
