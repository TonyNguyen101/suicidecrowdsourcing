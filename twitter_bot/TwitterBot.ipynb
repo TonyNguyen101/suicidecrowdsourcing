{
 "cells": [
  {
   "cell_type": "code",
   "execution_count": 58,
   "metadata": {
    "collapsed": true
   },
   "outputs": [],
   "source": [
    "import time\n",
    "import tweepy\n",
    "import datetime"
   ]
  },
  {
   "cell_type": "code",
   "execution_count": 38,
   "metadata": {
    "collapsed": true
   },
   "outputs": [],
   "source": [
    "# #BRIAN APIP KEYS\n",
    "\n",
    "# consumer_key = 'EgIFnj2BN5KwAvK3lZM5QFEv9'\n",
    "# consumer_secret = 'ED3eZNOjK25qxt1YKBX5W7e0czDBBzSmOBQEswndv1zy5K73Ns'\n",
    "# access_token = '14106027-inJyVVDoDfNqy3w37H6aVgnTsEtIB9Au9O2A8KDac'\n",
    "# access_token_secret = 'HSgDKYqLZzbawSaw016EbKji35YuY5xCrVHzpEMrlzDTK'\n",
    "\n",
    "# auth = tweepy.OAuthHandler(consumer_key, consumer_secret)\n",
    "# auth.set_access_token(access_token, access_token_secret)\n",
    "\n",
    "# api = tweepy.API(auth)"
   ]
  },
  {
   "cell_type": "code",
   "execution_count": 39,
   "metadata": {
    "collapsed": true
   },
   "outputs": [],
   "source": [
    "#BOT KEYS\n",
    "\n",
    "consumer_key = '9M7Q1a1MXe4dslWuRw2F6NGTt'\n",
    "consumer_secret = 'x0fgGvVpxigNch59BAQRBC9S70y2SNOxzihOBdsRLyGvVATNya'\n",
    "access_token = '701273577161490432-CojLaOzpd7vq60ml0FQOtM3Jyljgby1'\n",
    "access_token_secret = '0JtD6VDE1vAKgkyZJXMf5HN1tA1l8xJZWm3QjVG9Sb0iG'\n",
    "\n",
    "\n",
    "auth = tweepy.OAuthHandler(consumer_key, consumer_secret)\n",
    "auth.set_access_token(access_token, access_token_secret)\n",
    "api = tweepy.API(auth)"
   ]
  },
  {
   "cell_type": "code",
   "execution_count": 6,
   "metadata": {
    "collapsed": false
   },
   "outputs": [],
   "source": [
    "#api.direct_messages('surrealTrumpBot','surrealTrumpBot')\n",
    "#api.update_status('@surrealTrumpBot Are you president yet?')"
   ]
  },
  {
   "cell_type": "code",
   "execution_count": 7,
   "metadata": {
    "collapsed": false
   },
   "outputs": [],
   "source": [
    "#api.direct_messages('surrealTrumpBot')"
   ]
  },
  {
   "cell_type": "code",
   "execution_count": 8,
   "metadata": {
    "collapsed": false
   },
   "outputs": [],
   "source": [
    "# #user = 'surrealTrumpBot'\n",
    "# user = 'brianwoo'\n",
    "\n",
    "# def tweet_help(user):\n",
    "#     #msg = \"@\" + user + \" How are you doing? If you aren't doing too well, perhaps you should seek help @1-800-273-8255\"\n",
    "#     msg = \"@\"+user + \" Just Testing STuff\"\n",
    "#     api.update_status(msg)"
   ]
  },
  {
   "cell_type": "code",
   "execution_count": 9,
   "metadata": {
    "collapsed": true
   },
   "outputs": [],
   "source": [
    "# def tweet_friendConnector(user):\n",
    "#     friends = api.friends(user)\n",
    "#     for f in friends:\n",
    "#         #print f.screen_name\n",
    "#         msg = \"@\"+f.screen_name + \"It appears your friend,\" + user + \" may be in need some help.\"\n",
    "#         print msg\n",
    "#         #api.update_status(msg)"
   ]
  },
  {
   "cell_type": "code",
   "execution_count": 10,
   "metadata": {
    "collapsed": false
   },
   "outputs": [],
   "source": [
    "# users = ['BrianWoo', 'surrealTrumpBot']\n",
    "\n",
    "# for user in users:\n",
    "#     tweet_help(user)"
   ]
  },
  {
   "cell_type": "code",
   "execution_count": 142,
   "metadata": {
    "collapsed": false
   },
   "outputs": [],
   "source": [
    "def tweet_helpline(user):\n",
    "    msg = \"@\" + user + \" Hi! If you need someone to talk to, free to contact us at 1-800-273-8255\"\n",
    "    #msg = \"@\"+user + \" Just Testing STuff\"\n",
    "    api.update_status(msg)\n",
    "    api.create_friendship(user)\n",
    "\n",
    "def tweet_friendConnector(user):\n",
    "    friends = api.friends(user)\n",
    "    for f in friends[:5]:\n",
    "        #print f.screen_name\n",
    "        msg = \"@\"+f.screen_name + \". It seems that \" + user + \" could use someone to talk to.\"\n",
    "        print msg\n",
    "        #api.update_status(msg) ##THIS WILL SPAM PEOPLE\n",
    "\n",
    "def tweet_volunteer(user):\n",
    "    msg = \"@\"+user + \" . Thanks for your support!\"\n",
    "    api.update_status(msg)\n",
    "    api.create_friendship(user)\n",
    "    #Insert user into some database\n",
    "    "
   ]
  },
  {
   "cell_type": "code",
   "execution_count": 44,
   "metadata": {
    "collapsed": true
   },
   "outputs": [],
   "source": [
    "def parse_status(status):\n",
    "    '''\n",
    "    Parse a status for author and text information after querying from a specific users timeline\n",
    "    '''\n",
    "    print status.author.screen_name\n",
    "    print status.text\n",
    "    \n",
    "    if 'help' in status.text:\n",
    "        tweet_helpline(status.author.screen_name)\n",
    "    if 'volunteer' in status.text:\n",
    "        tweet_volunteer(status.author.screen_name)"
   ]
  },
  {
   "cell_type": "code",
   "execution_count": 48,
   "metadata": {
    "collapsed": false
   },
   "outputs": [],
   "source": [
    "# user = 'miahunsicker'\n",
    "# api.create_friendship(user) #Follows a user"
   ]
  },
  {
   "cell_type": "code",
   "execution_count": 40,
   "metadata": {
    "collapsed": false,
    "scrolled": true
   },
   "outputs": [
    {
     "name": "stdout",
     "output_type": "stream",
     "text": [
      "BrianWoo\n",
      "@vaHacksBot HelloWorld!\n",
      "surrealTrumpBot\n",
      ".@vaHacksBot And if they don't want him sending his stuff.\n",
      "surrealTrumpBot\n",
      ".@vaHacksBot So I say, well now the second debate, which is really kicking in in '16, 2016.\n"
     ]
    }
   ],
   "source": [
    "timeline = api.mentions_timeline()\n",
    "for status in timeline:\n",
    "    print status.author.screen_name\n",
    "    print status.text"
   ]
  },
  {
   "cell_type": "code",
   "execution_count": null,
   "metadata": {
    "collapsed": true
   },
   "outputs": [],
   "source": [
    "timeline = api.mentions_timeline()\n",
    "last_status = None"
   ]
  },
  {
   "cell_type": "code",
   "execution_count": 140,
   "metadata": {
    "collapsed": false
   },
   "outputs": [
    {
     "name": "stdout",
     "output_type": "stream",
     "text": [
      "BrianWoo\n",
      "@vaHacksBot volunteer\n",
      "BrianWoo\n",
      "@vaHacksBot help\n",
      "BrianWoo\n",
      "@vaHacksBot HelloWorld!\n",
      "surrealTrumpBot\n",
      ".@vaHacksBot And if they don't want him sending his stuff.\n",
      "surrealTrumpBot\n",
      ".@vaHacksBot So I say, well now the second debate, which is really kicking in in '16, 2016.\n"
     ]
    }
   ],
   "source": [
    "for status in timeline:\n",
    "    if status == last_status:\n",
    "        break\n",
    "    else:\n",
    "        try:\n",
    "            parse_status(status)\n",
    "        except:\n",
    "            pass"
   ]
  },
  {
   "cell_type": "code",
   "execution_count": 141,
   "metadata": {
    "collapsed": false
   },
   "outputs": [],
   "source": [
    "last_status = None"
   ]
  },
  {
   "cell_type": "code",
   "execution_count": 33,
   "metadata": {
    "collapsed": false
   },
   "outputs": [
    {
     "name": "stdout",
     "output_type": "stream",
     "text": [
      "test\n",
      "test\n",
      "test\n"
     ]
    },
    {
     "ename": "KeyboardInterrupt",
     "evalue": "",
     "output_type": "error",
     "traceback": [
      "\u001b[0;31m---------------------------------------------------------------------------\u001b[0m",
      "\u001b[0;31mKeyboardInterrupt\u001b[0m                         Traceback (most recent call last)",
      "\u001b[0;32m<ipython-input-33-0e5e52f2cde8>\u001b[0m in \u001b[0;36m<module>\u001b[0;34m()\u001b[0m\n\u001b[1;32m      1\u001b[0m \u001b[0;32mwhile\u001b[0m\u001b[0;34m(\u001b[0m\u001b[0mTrue\u001b[0m\u001b[0;34m)\u001b[0m\u001b[0;34m:\u001b[0m\u001b[0;34m\u001b[0m\u001b[0m\n\u001b[0;32m----> 2\u001b[0;31m     \u001b[0mtime\u001b[0m\u001b[0;34m.\u001b[0m\u001b[0msleep\u001b[0m\u001b[0;34m(\u001b[0m\u001b[0;36m30\u001b[0m\u001b[0;34m)\u001b[0m\u001b[0;34m\u001b[0m\u001b[0m\n\u001b[0m\u001b[1;32m      3\u001b[0m     \u001b[0;32mprint\u001b[0m \u001b[0;34m'test'\u001b[0m\u001b[0;34m\u001b[0m\u001b[0m\n",
      "\u001b[0;31mKeyboardInterrupt\u001b[0m: "
     ]
    }
   ],
   "source": [
    "#To query the API \n",
    "while(True):\n",
    "    time.sleep(30)\n",
    "    timeline = api.mentions_timeline()\n",
    "    for status in timeline:\n",
    "        print status.author.screen_name\n",
    "        print status.text\n",
    "        if status == last_status:\n",
    "            break\n",
    "        else:\n",
    "            try:\n",
    "                parse_status(status)\n",
    "            except:\n",
    "                pass"
   ]
  },
  {
   "cell_type": "code",
   "execution_count": 96,
   "metadata": {
    "collapsed": false
   },
   "outputs": [
    {
     "data": {
      "text/plain": [
       "False"
      ]
     },
     "execution_count": 96,
     "metadata": {},
     "output_type": "execute_result"
    }
   ],
   "source": [
    "status.created_at < datetime.datetime.now()"
   ]
  },
  {
   "cell_type": "code",
   "execution_count": 97,
   "metadata": {
    "collapsed": false
   },
   "outputs": [
    {
     "data": {
      "text/plain": [
       "datetime.timedelta(0, 28800)"
      ]
     },
     "execution_count": 97,
     "metadata": {},
     "output_type": "execute_result"
    }
   ],
   "source": [
    "datetime.timedelta(hours = 8)"
   ]
  },
  {
   "cell_type": "code",
   "execution_count": 98,
   "metadata": {
    "collapsed": false
   },
   "outputs": [],
   "source": [
    "dt = datetime.datetime.now()"
   ]
  },
  {
   "cell_type": "code",
   "execution_count": 99,
   "metadata": {
    "collapsed": false
   },
   "outputs": [
    {
     "data": {
      "text/plain": [
       "True"
      ]
     },
     "execution_count": 99,
     "metadata": {},
     "output_type": "execute_result"
    }
   ],
   "source": [
    "status.created_at - dt < datetime.timedelta(hours = 8, seconds = 30)"
   ]
  },
  {
   "cell_type": "code",
   "execution_count": 100,
   "metadata": {
    "collapsed": false
   },
   "outputs": [
    {
     "data": {
      "text/plain": [
       "datetime.datetime(2016, 2, 21, 19, 17, 32)"
      ]
     },
     "execution_count": 100,
     "metadata": {},
     "output_type": "execute_result"
    }
   ],
   "source": [
    "status.created_at"
   ]
  },
  {
   "cell_type": "code",
   "execution_count": 108,
   "metadata": {
    "collapsed": false
   },
   "outputs": [
    {
     "data": {
      "text/plain": [
       "datetime.timedelta(-1, 59357, 855818)"
      ]
     },
     "execution_count": 108,
     "metadata": {},
     "output_type": "execute_result"
    }
   ],
   "source": [
    "datetime.datetime.now() - status.created_at# < datetime.timedelta(seconds = 30)"
   ]
  },
  {
   "cell_type": "code",
   "execution_count": null,
   "metadata": {
    "collapsed": false
   },
   "outputs": [],
   "source": []
  },
  {
   "cell_type": "code",
   "execution_count": 54,
   "metadata": {
    "collapsed": true
   },
   "outputs": [],
   "source": [
    "user = 'brianwoo'"
   ]
  },
  {
   "cell_type": "code",
   "execution_count": 143,
   "metadata": {
    "collapsed": false
   },
   "outputs": [
    {
     "name": "stdout",
     "output_type": "stream",
     "text": [
      "@miahunsicker. It seems that brianwoo could use someone to talk to.\n",
      "@surrealTrumpBot. It seems that brianwoo could use someone to talk to.\n"
     ]
    }
   ],
   "source": [
    "tweet_friendConnector(user)"
   ]
  },
  {
   "cell_type": "code",
   "execution_count": null,
   "metadata": {
    "collapsed": true
   },
   "outputs": [],
   "source": []
  }
 ],
 "metadata": {
  "kernelspec": {
   "display_name": "Python 2",
   "language": "python",
   "name": "python2"
  },
  "language_info": {
   "codemirror_mode": {
    "name": "ipython",
    "version": 2
   },
   "file_extension": ".py",
   "mimetype": "text/x-python",
   "name": "python",
   "nbconvert_exporter": "python",
   "pygments_lexer": "ipython2",
   "version": "2.7.11"
  }
 },
 "nbformat": 4,
 "nbformat_minor": 0
}
