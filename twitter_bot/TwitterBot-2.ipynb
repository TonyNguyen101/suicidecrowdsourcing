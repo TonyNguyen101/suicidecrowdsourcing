{
 "cells": [
  {
   "cell_type": "code",
   "execution_count": 1,
   "metadata": {
    "collapsed": false
   },
   "outputs": [
    {
     "name": "stdout",
     "output_type": "stream",
     "text": [
      "Overwriting VATwitterBot.py\n"
     ]
    }
   ],
   "source": [
    "%%writefile VATwitterBot.py\n",
    "import os\n",
    "import time\n",
    "import tweepy\n",
    "import datetime\n",
    "\n",
    "##BOT KEYS\n",
    "consumer_key = os.getenv('consumer_key')\n",
    "consumer_secret = os.getenv('consumer_secret')\n",
    "access_token = os.getenv('access_token')\n",
    "access_token_secret = os.getenv('access_token_secret')\n",
    "\n",
    "auth = tweepy.OAuthHandler(consumer_key, consumer_secret)\n",
    "auth.set_access_token(access_token, access_token_secret)\n",
    "api = tweepy.API(auth)\n",
    "\n",
    "def tweet_helpline(user):\n",
    "    '''\n",
    "    Sends a public msg to the user to provide them information on where to get help.\n",
    "    '''\n",
    "    msg = \"@\" + user + \" Hi! If you need someone to talk to, free to contact us at 1-800-273-8255\"\n",
    "    #msg = \"@\"+user + \" Just Testing STuff\"\n",
    "    api.update_status(msg)\n",
    "    api.create_friendship(user)\n",
    "\n",
    "def tweet_friendConnector(user):\n",
    "    '''\n",
    "    Queries the API for a given users friend list and contacts a subset to help the individual in need.\n",
    "    '''\n",
    "    friends = api.friends(user)\n",
    "    for f in friends:\n",
    "        #print f.screen_name\n",
    "        msg = \"@\"+f.screen_name + \". It seems that \" + user + \" could use someone to talk to.\"\n",
    "        print msg\n",
    "        #api.update_status(msg) ##THIS WILL SPAM PEOPLE \n",
    "\n",
    "def tweet_volunteer(user):\n",
    "    '''\n",
    "    Function for outreach where users can tweet at the bot to volunteer and the bot will take in their twitter information for future use.\n",
    "    '''\n",
    "    msg = \"@\"+user + \" .Thanks for joining our cause!\"\n",
    "    api.update_status(msg)\n",
    "    api.create_friendship(user)\n",
    "    #Insert user into some database\n",
    "    \n",
    "def parse_status(status):\n",
    "    '''\n",
    "    Parse a status for author and text information after querying from a specific users timeline\n",
    "    '''\n",
    "    if 'help' in status.text.lower():\n",
    "        tweet_helpline(status.author.screen_name)\n",
    "    if 'volunteer' in status.text.lower():\n",
    "        tweet_volunteer(status.author.screen_name)\n",
    "\n",
    "last_status = None\n",
    "#To query the API \n",
    "while(True):\n",
    "    time.sleep(30)\n",
    "    timeline = api.mentions_timeline()\n",
    "    for status in timeline:\n",
    "        print status.author.screen_name\n",
    "        print status.text\n",
    "        if status == last_status:\n",
    "            break\n",
    "        else:\n",
    "            try:\n",
    "                pass\n",
    "                parse_status(status)\n",
    "            except:\n",
    "                pass\n",
    "    last_status = timeline[0]\n"
   ]
  },
  {
   "cell_type": "code",
   "execution_count": null,
   "metadata": {
    "collapsed": true
   },
   "outputs": [],
   "source": []
  }
 ],
 "metadata": {
  "kernelspec": {
   "display_name": "Python 2",
   "language": "python",
   "name": "python2"
  },
  "language_info": {
   "codemirror_mode": {
    "name": "ipython",
    "version": 2
   },
   "file_extension": ".py",
   "mimetype": "text/x-python",
   "name": "python",
   "nbconvert_exporter": "python",
   "pygments_lexer": "ipython2",
   "version": "2.7.11"
  }
 },
 "nbformat": 4,
 "nbformat_minor": 0
}
